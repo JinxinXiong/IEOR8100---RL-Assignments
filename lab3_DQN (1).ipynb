{
  "nbformat": 4,
  "nbformat_minor": 0,
  "metadata": {
    "kernelspec": {
      "display_name": "Python 3",
      "language": "python",
      "name": "python3"
    },
    "language_info": {
      "codemirror_mode": {
        "name": "ipython",
        "version": 3
      },
      "file_extension": ".py",
      "mimetype": "text/x-python",
      "name": "python",
      "nbconvert_exporter": "python",
      "pygments_lexer": "ipython3",
      "version": "3.5.1"
    },
    "colab": {
      "name": "lab3-DQN.ipynb",
      "provenance": []
    }
  },
  "cells": [
    {
      "cell_type": "markdown",
      "metadata": {
        "id": "4yi3IkwfIHcb"
      },
      "source": [
        "#  Lab Instruction\n",
        "\n",
        "In this notebook, we will learn how to implement DQN using Tensorflow for the [Cartpole environment in OpenAI gym](https://gym.openai.com/envs/CartPole-v0/). The notebook contains all the info that you need to understand the basic mechanism of DQN, you could also refer to the DQN pdf for detailed pseudocode. **Your task** is to fill in the\n",
        "\n",
        "YOUR CODE HERE\n",
        "\n",
        "sections in the code blocks below, to complete the building of computation graph, and the implementation of other parts of DQN. You are free to tweak all codes except the last block. Your are also free to tweak the hyper-parameters to improve the performance of the agent. The final block of the code evaluates the performance of the agent on an independent 100 episodes on the environment and print out the average testing performance.\n",
        "\n",
        "Make sure that your final submission is a notebook that can be run from beginning to end, and you should print out the accuracy at the end of the notebook (i.e. be sure to run the last block after training). Your agent's performance is expected to reach near 200 at the end of training. **Your grade will depend on the final evaluation performance of the agent**. However, if you tweak the code to report false result, you will receive no credit for this assignment."
      ]
    },
    {
      "cell_type": "code",
      "metadata": {
        "id": "uV4sJPeK4UcI",
        "outputId": "2cec4ced-14f3-4ace-b9e7-8d507023eadb",
        "colab": {
          "base_uri": "https://localhost:8080/"
        }
      },
      "source": [
        "!pip install tensorflow==1.13.1"
      ],
      "execution_count": 1,
      "outputs": [
        {
          "output_type": "stream",
          "text": [
            "Requirement already satisfied: tensorflow==1.13.1 in /usr/local/lib/python3.6/dist-packages (1.13.1)\n",
            "Requirement already satisfied: numpy>=1.13.3 in /usr/local/lib/python3.6/dist-packages (from tensorflow==1.13.1) (1.18.5)\n",
            "Requirement already satisfied: grpcio>=1.8.6 in /usr/local/lib/python3.6/dist-packages (from tensorflow==1.13.1) (1.33.2)\n",
            "Requirement already satisfied: astor>=0.6.0 in /usr/local/lib/python3.6/dist-packages (from tensorflow==1.13.1) (0.8.1)\n",
            "Requirement already satisfied: keras-preprocessing>=1.0.5 in /usr/local/lib/python3.6/dist-packages (from tensorflow==1.13.1) (1.1.2)\n",
            "Requirement already satisfied: wheel>=0.26 in /usr/local/lib/python3.6/dist-packages (from tensorflow==1.13.1) (0.35.1)\n",
            "Requirement already satisfied: tensorboard<1.14.0,>=1.13.0 in /usr/local/lib/python3.6/dist-packages (from tensorflow==1.13.1) (1.13.1)\n",
            "Requirement already satisfied: six>=1.10.0 in /usr/local/lib/python3.6/dist-packages (from tensorflow==1.13.1) (1.15.0)\n",
            "Requirement already satisfied: tensorflow-estimator<1.14.0rc0,>=1.13.0 in /usr/local/lib/python3.6/dist-packages (from tensorflow==1.13.1) (1.13.0)\n",
            "Requirement already satisfied: absl-py>=0.1.6 in /usr/local/lib/python3.6/dist-packages (from tensorflow==1.13.1) (0.10.0)\n",
            "Requirement already satisfied: gast>=0.2.0 in /usr/local/lib/python3.6/dist-packages (from tensorflow==1.13.1) (0.3.3)\n",
            "Requirement already satisfied: keras-applications>=1.0.6 in /usr/local/lib/python3.6/dist-packages (from tensorflow==1.13.1) (1.0.8)\n",
            "Requirement already satisfied: termcolor>=1.1.0 in /usr/local/lib/python3.6/dist-packages (from tensorflow==1.13.1) (1.1.0)\n",
            "Requirement already satisfied: protobuf>=3.6.1 in /usr/local/lib/python3.6/dist-packages (from tensorflow==1.13.1) (3.12.4)\n",
            "Requirement already satisfied: werkzeug>=0.11.15 in /usr/local/lib/python3.6/dist-packages (from tensorboard<1.14.0,>=1.13.0->tensorflow==1.13.1) (1.0.1)\n",
            "Requirement already satisfied: markdown>=2.6.8 in /usr/local/lib/python3.6/dist-packages (from tensorboard<1.14.0,>=1.13.0->tensorflow==1.13.1) (3.3.3)\n",
            "Requirement already satisfied: mock>=2.0.0 in /usr/local/lib/python3.6/dist-packages (from tensorflow-estimator<1.14.0rc0,>=1.13.0->tensorflow==1.13.1) (4.0.2)\n",
            "Requirement already satisfied: h5py in /usr/local/lib/python3.6/dist-packages (from keras-applications>=1.0.6->tensorflow==1.13.1) (2.10.0)\n",
            "Requirement already satisfied: setuptools in /usr/local/lib/python3.6/dist-packages (from protobuf>=3.6.1->tensorflow==1.13.1) (50.3.2)\n",
            "Requirement already satisfied: importlib-metadata; python_version < \"3.8\" in /usr/local/lib/python3.6/dist-packages (from markdown>=2.6.8->tensorboard<1.14.0,>=1.13.0->tensorflow==1.13.1) (2.0.0)\n",
            "Requirement already satisfied: zipp>=0.5 in /usr/local/lib/python3.6/dist-packages (from importlib-metadata; python_version < \"3.8\"->markdown>=2.6.8->tensorboard<1.14.0,>=1.13.0->tensorflow==1.13.1) (3.4.0)\n"
          ],
          "name": "stdout"
        }
      ]
    },
    {
      "cell_type": "code",
      "metadata": {
        "id": "0kxbMj1JIHcc",
        "outputId": "363a77e9-4ae5-45f1-b911-b0a02b2c3319",
        "colab": {
          "base_uri": "https://localhost:8080/"
        }
      },
      "source": [
        "import tensorflow as tf\n",
        "print(tf.__version__)\n",
        "from collections import deque\n",
        "\n",
        "import numpy as np\n",
        "\n",
        "%matplotlib inline\n",
        "\n",
        "import matplotlib\n",
        "import matplotlib.pyplot as plt\n",
        "\n",
        "import gym"
      ],
      "execution_count": 2,
      "outputs": [
        {
          "output_type": "stream",
          "text": [
            "/usr/local/lib/python3.6/dist-packages/tensorflow/python/framework/dtypes.py:526: FutureWarning: Passing (type, 1) or '1type' as a synonym of type is deprecated; in a future version of numpy, it will be understood as (type, (1,)) / '(1,)type'.\n",
            "  _np_qint8 = np.dtype([(\"qint8\", np.int8, 1)])\n",
            "/usr/local/lib/python3.6/dist-packages/tensorflow/python/framework/dtypes.py:527: FutureWarning: Passing (type, 1) or '1type' as a synonym of type is deprecated; in a future version of numpy, it will be understood as (type, (1,)) / '(1,)type'.\n",
            "  _np_quint8 = np.dtype([(\"quint8\", np.uint8, 1)])\n",
            "/usr/local/lib/python3.6/dist-packages/tensorflow/python/framework/dtypes.py:528: FutureWarning: Passing (type, 1) or '1type' as a synonym of type is deprecated; in a future version of numpy, it will be understood as (type, (1,)) / '(1,)type'.\n",
            "  _np_qint16 = np.dtype([(\"qint16\", np.int16, 1)])\n",
            "/usr/local/lib/python3.6/dist-packages/tensorflow/python/framework/dtypes.py:529: FutureWarning: Passing (type, 1) or '1type' as a synonym of type is deprecated; in a future version of numpy, it will be understood as (type, (1,)) / '(1,)type'.\n",
            "  _np_quint16 = np.dtype([(\"quint16\", np.uint16, 1)])\n",
            "/usr/local/lib/python3.6/dist-packages/tensorflow/python/framework/dtypes.py:530: FutureWarning: Passing (type, 1) or '1type' as a synonym of type is deprecated; in a future version of numpy, it will be understood as (type, (1,)) / '(1,)type'.\n",
            "  _np_qint32 = np.dtype([(\"qint32\", np.int32, 1)])\n",
            "/usr/local/lib/python3.6/dist-packages/tensorflow/python/framework/dtypes.py:535: FutureWarning: Passing (type, 1) or '1type' as a synonym of type is deprecated; in a future version of numpy, it will be understood as (type, (1,)) / '(1,)type'.\n",
            "  np_resource = np.dtype([(\"resource\", np.ubyte, 1)])\n"
          ],
          "name": "stderr"
        },
        {
          "output_type": "stream",
          "text": [
            "1.13.1\n"
          ],
          "name": "stdout"
        }
      ]
    },
    {
      "cell_type": "markdown",
      "metadata": {
        "id": "LyEdF8_ZIHcg"
      },
      "source": [
        "## DQN (Deep Q Network)\n",
        "\n",
        "In previous Labs, we have learned to use Tensorflow to build deep learning models. In this lab, we will apply deep learning as function approximations in reinforcement learning. \n",
        "\n",
        "Reference: DQN https://arxiv.org/abs/1312.5602\n",
        "\n",
        "In tabular Q-learning, we maintain a table of state-action pairs $(s,a)$ and save one action value for each entry $Q(s,a),\\forall (s,a)$. At each time step $t$, we are in state $s_t$, then we choose action based on $\\epsilon-$greedy strategy. With prob $\\epsilon$, choose action uniformly random; with prob $1-\\epsilon$, choose action based on $$a_t = \\arg\\max_a Q(s_t,a)$$ \n",
        "\n",
        "We then get the instant reward $r_t$, update the Q-table using the following rule\n",
        "\n",
        "$$Q(s_t,a_t) \\leftarrow (1-\\alpha)Q(s_t,a_t) + \\alpha (r_t + \\max_a \\gamma Q(s_{t+1},a))$$\n",
        "\n",
        "where $\\alpha \\in (0,1)$ is learning rate. The algorithm is shown to converge in tabular cases. However, in cases where we cannot keep a table for state and action, we need function approximation. Consider using neural network with parameter $\\theta$, the network takes as input state $s$ and action $a$. (*or some features of state and action*). Let $Q_\\theta(s,a)$ be the output of the network, which estimates the optimal Q-value function for state $s$ and action $a$.\n",
        "[//]: $$Q_\\theta(s,a) \\approx Q^\\ast(s,a)$$"
      ]
    },
    {
      "cell_type": "markdown",
      "metadata": {
        "id": "exbTxePuIHch"
      },
      "source": [
        "### Bellman optimality equation\n",
        "\n",
        "We wish to train the neural network in order to find $\\theta$ such that $Q_\\theta(s,a)$ approximates $Q^*(s,a)$. \n",
        "We will use Bellman optimality equation to do this. Recall that for optimal Q function $Q^\\ast(s,a)$ the following holds for all $(s,a)$\n",
        "\n",
        "$$Q^\\ast(s,a) = \\max_{a'} \\mathbb{E}_{s'}\\big[R(s,a) + \\gamma Q^\\ast(s',a)\\big]$$\n",
        "\n",
        "We can use observations of form $(s_i, a_i, r_i, s'_{i})$ (i.e., observing reward $r_i$ and new state $s'_{i}$ on taking action $a_i$ in state $s_i$) for training. Let  $target_i = \\max_a \\mathbb{E}\\big[r_i + \\gamma Q^\\ast(s'_{i},a)\\big]$\n",
        "\n",
        "Then, Q-learning with function approximation uses online gradient descent to find $\\theta$ that minimizes the loss function\n",
        "\n",
        "$$\\frac{1}{N} \\sum_{i=1}^N (Q_\\theta(s_i,a_i) - target_i)^2$$\n",
        "\n",
        "Let us first build a neural network $Q_\\theta(s,a)$ as required above."
      ]
    },
    {
      "cell_type": "code",
      "metadata": {
        "id": "ribr85y_IHch"
      },
      "source": [
        "# define neural net Q_\\theta(s,a) as a class\n",
        "\n",
        "class Qfunction(object):\n",
        "    \n",
        "    def __init__(self, obssize, actsize, sess, optimizer):\n",
        "        \"\"\"\n",
        "        obssize: dimension of state space\n",
        "        actsize: dimension of action space\n",
        "        sess: sess to execute this Qfunction\n",
        "        optimizer: \n",
        "        \"\"\"\n",
        "        hidden1 = 24\n",
        "        hidden2 = 24\n",
        "        # YOUR CODE HERE\n",
        "        # build the prediction graph\n",
        "        state = tf.placeholder(tf.float32, [None, obssize], name='state')\n",
        "        # state = tf.placeholder(tf.float32, [1, obssize])\n",
        "        # Qvalues = None  # make sure it has size [None, actsize]\n",
        "        self.W1 = tf.Variable(tf.truncated_normal([obssize, hidden1]), name='W1')*0.1\n",
        "        self.b1 = tf.Variable(tf.zeros([hidden1]), name='b1')\n",
        "        self.h1 = tf.nn.relu(tf.matmul(state, self.W1)+self.b1)\n",
        "\n",
        "        self.W2 = tf.Variable(tf.truncated_normal([hidden1, hidden2]), name='W2')*0.1\n",
        "        self.b2 = tf.Variable(tf.zeros([hidden2]), name='b2')\n",
        "        self.h2 = tf.nn.relu(tf.matmul(self.h1, self.W2)+self.b2)\n",
        "\n",
        "        self.W3 = tf.Variable(tf.truncated_normal([hidden2, actsize]), name='W3')\n",
        "        self.b3 = tf.Variable(tf.zeros([actsize]), name='b3')\n",
        "        Qvalues = tf.matmul(self.h2, self.W3)+self.b3\n",
        "\n",
        "        # build the targets and actions\n",
        "        # targets represent the terms E[r+gamma Q] in Bellman equations\n",
        "        # actions represent a_t\n",
        "        # targets = tf.placeholder(tf.float32, shape=[None], name='targets')\n",
        "        # actions = tf.placeholder(tf.int32, shape=[None], name='actions')\n",
        "        targets = tf.placeholder(tf.float32, shape=[None], name='targets')\n",
        "        actions = tf.placeholder(tf.int32, shape=[None], name='actions')\n",
        "        # Qpreds = None  # make sure it has size [None]\n",
        "        Qpreds = tf.reduce_sum(Qvalues*tf.one_hot(actions, actsize), axis=1)\n",
        "        loss = tf.reduce_mean(tf.square(Qpreds - targets))\n",
        "\n",
        "        # optimization\n",
        "        self.train_op = optimizer.minimize(loss)\n",
        "        \n",
        "        # some bookkeeping\n",
        "        self.Qvalues = Qvalues\n",
        "        self.state = state\n",
        "        self.actions = actions\n",
        "        self.targets = targets\n",
        "        self.loss = loss\n",
        "        self.sess = sess\n",
        "\n",
        "    \n",
        "    def compute_Qvalues(self, states):\n",
        "        \"\"\"\n",
        "        states: numpy array as input to the neural net, states should have\n",
        "        size [numsamples, obssize], where numsamples is the number of samples\n",
        "        output: Q values for these states. The output should have size \n",
        "        [numsamples, actsize] as numpy array\n",
        "        \"\"\"\n",
        "        return self.sess.run(self.Qvalues, feed_dict={self.state: states})\n",
        "        \n",
        "\n",
        "    def train(self, states, actions, targets):\n",
        "        \"\"\"\n",
        "        states: numpy array as input to compute loss (s)\n",
        "        actions: numpy array as input to compute loss (a)\n",
        "        targets: numpy array as input to compute loss (Q targets)\n",
        "        \"\"\"\n",
        "        return self.sess.run([self.loss, self.train_op], feed_dict={self.state:states, self.actions:actions, self.targets:targets})"
      ],
      "execution_count": 3,
      "outputs": []
    },
    {
      "cell_type": "code",
      "metadata": {
        "id": "kTbYfRElQwV8"
      },
      "source": [
        ""
      ],
      "execution_count": 3,
      "outputs": []
    },
    {
      "cell_type": "markdown",
      "metadata": {
        "id": "dT0xrpxBIHck"
      },
      "source": [
        "Now that we have $Q_\\theta(s,a)$ we can execute policies in the environment as follows ($\\epsilon-$greedy)."
      ]
    },
    {
      "cell_type": "code",
      "metadata": {
        "id": "VbfCTDE8IHcl"
      },
      "source": [
        "# just pseudocode\n",
        "# the following lines illustrate how DQN agent takes actions \n",
        "# to interact with the environment\n",
        "\n",
        "#raise ValueError(\"cannot attemp to run pseudocode\")\n",
        "\n",
        "#env = gym.make('CartPole-v0')\n",
        "#epsilon = .1\n",
        "\n",
        "#obs = env.reset()\n",
        "#done = False\n",
        "#rewardsum = 0\n",
        "\n",
        "#while not done:\n",
        "#    if np.random.rand() < epsilon:\n",
        "#        action = env.action_space.sample()\n",
        "#    else:\n",
        "#        Q = Qfunction.compute_Qvalues(obs)\n",
        "#        action = np.argmax(Q)  # need some tweeking of code here\n",
        "#    \n",
        "#    obs, reward, done, info = env.step(action)\n",
        "#    rewardsum += reward\n",
        "#    \n",
        "#print(\"reward under current policy %f \".format(rewardsum)) "
      ],
      "execution_count": 4,
      "outputs": []
    },
    {
      "cell_type": "markdown",
      "metadata": {
        "id": "6CmjnyZ7IHco"
      },
      "source": [
        "We can hence collect a bunch of samples $(s_t,a_t,r_t,s_{t+1})$, and compute the targets using the current network. Let the target be $d_i$ as the $i$th target\n",
        "\n",
        "$$d_i = \\max_a r_t + \\gamma Q_\\theta(s_{t+1},a)$$\n",
        "\n",
        "And then feed this value into the computational graph and minimize the Bellman error loss. This procedure has been shown to be fairly unstable. The reference paper has offered two techniques to stabilize the training process: target network and replay buffer.\n",
        "\n",
        "**Replay Buffer**\n",
        "Maintain a buffer $R$ to store trainsition tuples $(s_t,a_t,r_t,s_{t+1})$, when we minimize the Bellman error. When optimizing the Bellman error loss, we sample batches from the replay buffer and compute gradients for update on these batches. In particular, in each update, we sample $N$ tuples from buffer $(s_t,a_t,r_t,s_{t+1}) \\sim R$ and then compute\n",
        "loss \n",
        "\n",
        "$$\\frac{1}{N} \\sum_{i=1}^N (Q_\\theta(s_i,a_i) - \\max_a (r_i + \\gamma Q_\\theta(s_i^\\prime,a))^2$$\n",
        "\n",
        "and update parameters using backprop.\n",
        "\n",
        "**Target Network**\n",
        "Maintain a target network in addition to the original principal network. The target network is just a copy of the original network but the parameters are not updated by gradients. The target network $\\theta_{\\text{target}}$ is copied from the principal network every $\\tau$ time steps. Target network is used to compute the targets for update\n",
        "\n",
        "$$d_i = \\max_a r_t + \\gamma Q_{\\theta^{-}}(s_{i}^\\prime,a)$$\n",
        "\n",
        "the targets are used in the loss function to update the principal network parameters. This slowly updated target network ensures that the targets come from a relatively stationary distribution and hence stabilize learning."
      ]
    },
    {
      "cell_type": "markdown",
      "metadata": {
        "id": "APTZs8zCIHco"
      },
      "source": [
        "Hence several critical parts of the complete pseudocode for DQN is as follows:\n",
        "\n",
        "**Initialization**: principal network $Q_\\theta(s,a)$, target network $Q_{\\theta^{-}}(s,a)$. Replay buffer $R = \\{\\}$ (empty). \n",
        "\n",
        "**At each time step $t$**: execute action using $\\epsilon-$greedy based on the principal network $Q_\\theta(s,a)$. To update $\\theta$: sample $N$ tuples $(s_i,a_i,r_i,s_i^\\prime) \\sim R$, compute empirical loss \n",
        "\n",
        "$$\\frac{1}{N} \\sum_{i=1}^N (Q_\\theta(s_i,a_i) - \\max_a (r_i + \\gamma Q_{\\theta^{-}}(s_i^\\prime,a))^2$$\n",
        "\n",
        "and update parameter $\\theta$ using backprop (just take one gradient step).\n",
        "\n",
        "**Update target network**: Every $\\tau$ time steps, update target network by copying $\\theta_{\\text{target}} \\leftarrow \\theta$."
      ]
    },
    {
      "cell_type": "code",
      "metadata": {
        "id": "F7FzlYVGIHcp"
      },
      "source": [
        "# Implement replay buffer\n",
        "import random\n",
        "class ReplayBuffer(object):\n",
        "    \n",
        "    def __init__(self, maxlength):\n",
        "        \"\"\"\n",
        "        maxlength: max number of tuples to store in the buffer\n",
        "        if there are more tuples than maxlength, pop out the oldest tuples\n",
        "        \"\"\"\n",
        "        self.buffer = deque()\n",
        "        self.number = 0\n",
        "        self.maxlength = maxlength\n",
        "    \n",
        "    def append(self, experience):\n",
        "        \"\"\"\n",
        "        this function implements appending new experience tuple\n",
        "        experience: a tuple of the form (s,a,r,s^\\prime)\n",
        "        \"\"\"\n",
        "        self.buffer.append(experience)\n",
        "        self.number += 1\n",
        "        if self.number > self.maxlength:\n",
        "            self.pop()\n",
        "        \n",
        "    def pop(self):\n",
        "        \"\"\"\n",
        "        pop out the oldest tuples if self.number > self.maxlength\n",
        "        \"\"\"\n",
        "        while self.number > self.maxlength:\n",
        "            self.buffer.popleft()\n",
        "            self.number -= 1\n",
        "    \n",
        "    def sample(self, batchsize):\n",
        "        \"\"\"\n",
        "        this function samples 'batchsize' experience tuples\n",
        "        batchsize: size of the minibatch to be sampled\n",
        "        return: a list of tuples of form (s,a,r,s^\\prime)\n",
        "        \"\"\"\n",
        "        # YOUR CODE HERE\n",
        "        # sample_idx = np.random.randint(0, self.number, size=batchsize)\n",
        "        # return None  # need implementation\n",
        "        # return self.buffer[sample_idx]\n",
        "        idx = np.random.randint(0, self.number, size=batchsize)\n",
        "        states = np.squeeze(np.asarray([self.buffer[i][0] for i in idx]))\n",
        "        actions = np.asarray([self.buffer[i][1] for i in idx])\n",
        "        rewards = np.asarray([self.buffer[i][2] for i in idx])\n",
        "        next_actions = np.squeeze(np.asarray([self.buffer[i][3] for i in idx]))\n",
        "        done = np.asarray([self.buffer[i][4] for i in idx])\n",
        "        return states, actions, rewards, next_actions, done\n",
        "        "
      ],
      "execution_count": 5,
      "outputs": []
    },
    {
      "cell_type": "markdown",
      "metadata": {
        "id": "ZHTcBKRpIHcr"
      },
      "source": [
        "We need a subroutine to update target network i.e. to copy from principal network to target network. We need to use tensorflow scope to distinguish the computational graphs of target and principal networks. The following function builds a tensorflow operation that does the copying $ \\theta_{\\text{target}}  \\leftarrow \\theta$. You can do a soft version $\\theta \\leftarrow (1-\\tau) \\theta + \\tau \\theta_{\\text{target}}$"
      ]
    },
    {
      "cell_type": "code",
      "metadata": {
        "id": "98avdfujIHcs"
      },
      "source": [
        "def build_target_update(from_scope, to_scope):\n",
        "    from_vars = tf.get_collection(tf.GraphKeys.TRAINABLE_VARIABLES, scope=from_scope)\n",
        "    to_vars = tf.get_collection(tf.GraphKeys.TRAINABLE_VARIABLES, scope=to_scope)\n",
        "    op = []\n",
        "    for v1, v2 in zip(from_vars, to_vars):\n",
        "        op.append(v2.assign(v1))\n",
        "    return op    "
      ],
      "execution_count": 6,
      "outputs": []
    },
    {
      "cell_type": "markdown",
      "metadata": {
        "id": "2FTmu1i6IHcu"
      },
      "source": [
        "Now that we have all the ingredients for DQN, we can write the main procedure to train DQN on a given environment. The implementation is straightforward if you follow the pseudocode. Refer to the pseudocode pdf for details."
      ]
    },
    {
      "cell_type": "code",
      "metadata": {
        "id": "dBlPBZ8eIHcv",
        "outputId": "11c13dc7-f6a2-41b3-e521-6d4630cc0d24",
        "colab": {
          "base_uri": "https://localhost:8080/"
        }
      },
      "source": [
        "# parameter initializations\n",
        "lr = 1e-3 # learning rate for gradient update\n",
        "batchsize = 512 # batchsize for buffer sampling\n",
        "maxlength = 10000 # max number of tuples held by buffer\n",
        "envname = \"CartPole-v0\"  # environment name\n",
        "tau = 10000 # time steps for target update\n",
        "episodes = 5000  # number of episodes to run\n",
        "initialsize = 5  # initial time steps before start updating\n",
        "# epsilon = .1  # constant for exploration\n",
        "epsilon = 1.0                  \n",
        "max_epsilon = 1\n",
        "min_epsilon = 0.01         \n",
        "decay = 0.01\n",
        "# gamma = .99  # discount\n",
        "gamma=0.95\n",
        "\n",
        "# initialize environment\n",
        "env = gym.make(envname)\n",
        "obssize = env.observation_space.low.size\n",
        "\n",
        "actsize = env.action_space.n\n",
        "\n",
        "# initialize tensorflow session\n",
        "sess = tf.Session()\n",
        "sess.run(tf.global_variables_initializer())\n",
        "\n",
        "# optimizer\n",
        "optimizer = tf.train.AdamOptimizer(lr)\n",
        "\n",
        "# initialize networks\n",
        "with tf.variable_scope(\"principal\"):\n",
        "    Qprincipal = Qfunction(obssize, actsize, sess, optimizer)\n",
        "with tf.variable_scope(\"target\"):\n",
        "    Qtarget = Qfunction(obssize, actsize, sess, optimizer)\n",
        "\n",
        "# build ops\n",
        "update = build_target_update(\"principal\", \"target\")  # call sess.run(update) to copy\n",
        "                                                     # from principal to target\n",
        "\n",
        "# initialization of graph and buffer\n",
        "sess.run(tf.global_variables_initializer())\n",
        "buffer = ReplayBuffer(maxlength)\n",
        "_ = sess.run(update)\n",
        "T = 0\n",
        "# main iteration\n",
        "# YOUR CODE HERE\n",
        "history_rewards = []\n",
        "e = 0\n",
        "while e < episodes:\n",
        "    e += 1\n",
        "    obs = env.reset()\n",
        "    # obs = np.reshape(obs, [-1, obssize])\n",
        "    obs = np.expand_dims(obs, 0)\n",
        "    done = False\n",
        "    rewardsum = 0\n",
        "    while not done:\n",
        "        if np.random.rand() < epsilon:\n",
        "            action = env.action_space.sample()\n",
        "        else:\n",
        "            Q = Qprincipal.compute_Qvalues(obs)\n",
        "            action = np.argmax(Q[0])  # need some tweeking of code here\n",
        "        T += 1\n",
        "        obs_prime, reward, done, info = env.step(action)\n",
        "        # obs_prime = np.reshape(obs, [-1, obssize])\n",
        "        obs_prime = np.expand_dims(obs_prime, 0)\n",
        "        rewardsum += reward\n",
        "\n",
        "        # onece failed, we make some punishment on the reward\n",
        "        reward = reward if not done else -10\n",
        "\n",
        "        buffer.append((obs, action, reward, obs_prime, done))\n",
        "        \n",
        "        obs = obs_prime\n",
        "        # print(\"-------------time:\", T)\n",
        "        if buffer.number > batchsize:\n",
        "            s, a, r, ns, d = buffer.sample(batchsize)\n",
        "            q = np.max(Qtarget.compute_Qvalues(ns), axis=1)\n",
        "            t = np.where(done, r, r+gamma*q)\n",
        "            l = Qprincipal.train(s, a, t)\n",
        "        \n",
        "        if T%tau == 0:\n",
        "            _= sess.run(update)\n",
        "\n",
        "        epsilon = max(min_epsilon, epsilon*0.9999)\n",
        "    history_rewards.append(rewardsum)\n",
        "    if e == 2000:\n",
        "        lr = 1e-3\n",
        "\n",
        "    if e%50 == 0 and buffer.number > batchsize:\n",
        "        print(\"epoch\"+str(e)+':'+str(rewardsum)+\" average rewards: \"+str(np.mean(history_rewards[-50:])))\n",
        "        print(\"epsilon\"+str(epsilon))\n",
        "    \n",
        "    if T>100 and np.mean(history_rewards[-50:]) > 198.0:\n",
        "        break"
      ],
      "execution_count": 7,
      "outputs": [
        {
          "output_type": "stream",
          "text": [
            "WARNING:tensorflow:From /usr/local/lib/python3.6/dist-packages/tensorflow/python/framework/op_def_library.py:263: colocate_with (from tensorflow.python.framework.ops) is deprecated and will be removed in a future version.\n",
            "Instructions for updating:\n",
            "Colocations handled automatically by placer.\n",
            "WARNING:tensorflow:From /usr/local/lib/python3.6/dist-packages/tensorflow/python/ops/math_ops.py:3066: to_int32 (from tensorflow.python.ops.math_ops) is deprecated and will be removed in a future version.\n",
            "Instructions for updating:\n",
            "Use tf.cast instead.\n",
            "epoch50:48.0 average rewards: 26.7\n",
            "epsilon0.8750216277993541\n",
            "epoch100:11.0 average rewards: 40.06\n",
            "epsilon0.7161850532804732\n",
            "epoch150:34.0 average rewards: 45.06\n",
            "epsilon0.5717074000460581\n",
            "epoch200:18.0 average rewards: 31.28\n",
            "epsilon0.4889300839264318\n",
            "epoch250:9.0 average rewards: 21.18\n",
            "epsilon0.43979741755623497\n",
            "epoch300:37.0 average rewards: 21.72\n",
            "epsilon0.39453536282751267\n",
            "epoch350:14.0 average rewards: 52.46\n",
            "epsilon0.3035042640556561\n",
            "epoch400:29.0 average rewards: 107.42\n",
            "epsilon0.17737547319048402\n",
            "epoch450:200.0 average rewards: 168.16\n",
            "epsilon0.07651040620572662\n",
            "epoch500:200.0 average rewards: 189.58\n",
            "epsilon0.029650511075847725\n"
          ],
          "name": "stdout"
        }
      ]
    },
    {
      "cell_type": "markdown",
      "metadata": {
        "id": "T8MpCmM9MvMM"
      },
      "source": [
        "continue training with a higher early stopping criteria"
      ]
    },
    {
      "cell_type": "code",
      "metadata": {
        "id": "RWTGaYWdMuFQ"
      },
      "source": [
        "# while e < episodes:\n",
        "#     e += 1\n",
        "#     obs = env.reset()\n",
        "#     # obs = np.reshape(obs, [-1, obssize])\n",
        "#     obs = np.expand_dims(obs, 0)\n",
        "#     done = False\n",
        "#     rewardsum = 0\n",
        "#     while not done:\n",
        "#         if np.random.rand() < epsilon:\n",
        "#             action = env.action_space.sample()\n",
        "#         else:\n",
        "#             Q = Qprincipal.compute_Qvalues(obs)\n",
        "#             action = np.argmax(Q[0])  # need some tweeking of code here\n",
        "#         T += 1\n",
        "#         obs_prime, reward, done, info = env.step(action)\n",
        "#         # obs_prime = np.reshape(obs, [-1, obssize])\n",
        "#         obs_prime = np.expand_dims(obs_prime, 0)\n",
        "#         rewardsum += reward\n",
        "\n",
        "#         # onece failed, we make some punishment on the reward\n",
        "#         reward = reward if not done else -10\n",
        "\n",
        "#         buffer.append((obs, action, reward, obs_prime, done))\n",
        "        \n",
        "#         obs = obs_prime\n",
        "#         # print(\"-------------time:\", T)\n",
        "#         if buffer.number > batchsize:\n",
        "#             s, a, r, ns, d = buffer.sample(batchsize)\n",
        "#             q = np.max(Qtarget.compute_Qvalues(ns), axis=1)\n",
        "#             t = np.where(done, r, r+gamma*q)\n",
        "#             l = Qprincipal.train(s, a, t)\n",
        "        \n",
        "#         if T%tau == 0:\n",
        "#             _= sess.run(update)\n",
        "\n",
        "#         epsilon = max(min_epsilon, epsilon*0.9999)\n",
        "#     history_rewards.append(rewardsum)\n",
        "#     if e == 2000:\n",
        "#         lr = 1e-3\n",
        "\n",
        "#     if e%50 == 0 and buffer.number > batchsize:\n",
        "#         print(\"epoch\"+str(e)+':'+str(rewardsum)+\" average rewards: \"+str(np.mean(history_rewards[-50:])))\n",
        "#         print(\"epsilon\"+str(epsilon))\n",
        "    \n",
        "#     if T>100 and np.mean(history_rewards[-50:]) > 190.0:\n",
        "#         break"
      ],
      "execution_count": 8,
      "outputs": []
    },
    {
      "cell_type": "code",
      "metadata": {
        "id": "SdTq4HVgLuSJ",
        "outputId": "68bbc422-94e2-4879-e850-2065a77e8e39",
        "colab": {
          "base_uri": "https://localhost:8080/",
          "height": 282
        }
      },
      "source": [
        "import pandas as pd\n",
        "pd.Series(history_rewards).rolling(100, min_periods=100).mean().plot()"
      ],
      "execution_count": 17,
      "outputs": [
        {
          "output_type": "execute_result",
          "data": {
            "text/plain": [
              "<matplotlib.axes._subplots.AxesSubplot at 0x7f6958f5f4e0>"
            ]
          },
          "metadata": {
            "tags": []
          },
          "execution_count": 17
        },
        {
          "output_type": "display_data",
          "data": {
            "image/png": "[encoded data removed]",
            "text/plain": [
              "<Figure size 432x288 with 1 Axes>"
            ]
          },
          "metadata": {
            "tags": [],
            "needs_background": "light"
          }
        }
      ]
    },
    {
      "cell_type": "code",
      "metadata": {
        "id": "WvOWDL3qIHcy",
        "outputId": "dd3680e8-70bf-4111-9103-4ce400191b05",
        "colab": {
          "base_uri": "https://localhost:8080/"
        }
      },
      "source": [
        "# DO NOT CHANGE CODE HERE\n",
        "# after training, we will evaluate the performance of the agent\n",
        "# on a target environment\n",
        "eval_episodes = 100\n",
        "record = []\n",
        "env = gym.make('CartPole-v0')\n",
        "eval_mode = True\n",
        "for ite in range(eval_episodes):\n",
        "    \n",
        "    obs = env.reset()\n",
        "    done = False\n",
        "    rsum = 0\n",
        "    \n",
        "    while not done:\n",
        "        if eval_mode:\n",
        "            values = Qprincipal.compute_Qvalues(np.expand_dims(obs,0))\n",
        "            action = np.argmax(values.flatten())\n",
        "        else:\n",
        "            raise NotImplementedError\n",
        "\n",
        "        newobs, r, done, _ = env.step(action)\n",
        "        rsum += r\n",
        "        obs = newobs\n",
        "    \n",
        "    record.append(rsum)\n",
        "\n",
        "print(\"eval performance of DQN agent: {}\".format(np.mean(record)))"
      ],
      "execution_count": 18,
      "outputs": [
        {
          "output_type": "stream",
          "text": [
            "eval performance of DQN agent: 200.0\n"
          ],
          "name": "stdout"
        }
      ]
    },
    {
      "cell_type": "markdown",
      "metadata": {
        "id": "3j7AnsWeN6fT"
      },
      "source": [
        "## Test\n",
        "\n",
        "https://colab.research.google.com/drive/1flu31ulJlgiRL1dnN2ir8wGh9p7Zij2t#scrollTo=8-AxnvAVyzQQ"
      ]
    },
    {
      "cell_type": "code",
      "metadata": {
        "id": "Uszz1fA2Mt8X"
      },
      "source": [
        "#remove \" > /dev/null 2>&1\" to see what is going on under the hood\n",
        "!pip install gym pyvirtualdisplay > /dev/null 2>&1\n",
        "!apt-get install -y xvfb python-opengl ffmpeg > /dev/null 2>&1\n"
      ],
      "execution_count": 19,
      "outputs": []
    },
    {
      "cell_type": "code",
      "metadata": {
        "id": "H3Zr9WYFNo3_",
        "outputId": "95aed949-48b3-413b-a1d4-3f98cd65f5c4",
        "colab": {
          "base_uri": "https://localhost:8080/"
        }
      },
      "source": [
        "!apt-get update > /dev/null 2>&1\n",
        "!apt-get install cmake > /dev/null 2>&1\n",
        "!pip install --upgrade setuptools 2>&1\n",
        "!pip install ez_setup > /dev/null 2>&1\n",
        "!pip install gym[atari] > /dev/null 2>&1"
      ],
      "execution_count": 20,
      "outputs": [
        {
          "output_type": "stream",
          "text": [
            "Requirement already up-to-date: setuptools in /usr/local/lib/python3.6/dist-packages (50.3.2)\n"
          ],
          "name": "stdout"
        }
      ]
    },
    {
      "cell_type": "code",
      "metadata": {
        "id": "TZFPHsVsOEBS"
      },
      "source": [
        "import gym\n",
        "from gym import logger as gymlogger\n",
        "from gym.wrappers import Monitor\n",
        "gymlogger.set_level(40) #error only\n",
        "import tensorflow as tf\n",
        "import numpy as np\n",
        "import random\n",
        "import matplotlib\n",
        "import matplotlib.pyplot as plt\n",
        "%matplotlib inline\n",
        "import math\n",
        "import glob\n",
        "import io\n",
        "import base64\n",
        "from IPython.display import HTML\n",
        "\n",
        "from IPython import display as ipythondisplay"
      ],
      "execution_count": 21,
      "outputs": []
    },
    {
      "cell_type": "code",
      "metadata": {
        "id": "1Pl4yp2UOIoA"
      },
      "source": [
        "from pyvirtualdisplay import Display\n",
        "display = Display(visible=0, size=(1400, 900))\n",
        "display.start()\n",
        "\n",
        "\"\"\"\n",
        "Utility functions to enable video recording of gym environment and displaying it\n",
        "To enable video, just do \"env = wrap_env(env)\"\"\n",
        "\"\"\"\n",
        "\n",
        "def show_video():\n",
        "  mp4list = glob.glob('video/*.mp4')\n",
        "  if len(mp4list) > 0:\n",
        "    mp4 = mp4list[0]\n",
        "    video = io.open(mp4, 'r+b').read()\n",
        "    encoded = base64.b64encode(video)\n",
        "    ipythondisplay.display(HTML(data='''<video alt=\"test\" autoplay \n",
        "                loop controls style=\"height: 400px;\">\n",
        "                <source src=\"data:video/mp4;base64,{0}\" type=\"video/mp4\" />\n",
        "             </video>'''.format(encoded.decode('ascii'))))\n",
        "  else: \n",
        "    print(\"Could not find video\")\n",
        "    \n",
        "\n",
        "def wrap_env(env):\n",
        "  env = Monitor(env, './video', force=True)\n",
        "  return env"
      ],
      "execution_count": 22,
      "outputs": []
    },
    {
      "cell_type": "code",
      "metadata": {
        "id": "SWlTtiMNOX1b",
        "outputId": "ad70b588-4046-4599-d7d6-e5deb2ceb4a0",
        "colab": {
          "base_uri": "https://localhost:8080/",
          "height": 455
        }
      },
      "source": [
        "env = wrap_env(gym.make(\"CartPole-v0\"))\n",
        "observation = env.reset()\n",
        "print(observation)\n",
        "rsum = 0\n",
        "while True:\n",
        "    env.render()\n",
        "    \n",
        "    #your agent goes here\n",
        "    # action = env.action_space.sample() \n",
        "    values = Qprincipal.compute_Qvalues(np.expand_dims(observation,0))\n",
        "    action = np.argmax(values.flatten())\n",
        "         \n",
        "    observation, reward, done, info = env.step(action) \n",
        "    rsum += reward\n",
        "        \n",
        "    if done: \n",
        "      break;\n",
        "print(rsum)\n",
        "env.close()\n",
        "show_video()"
      ],
      "execution_count": 23,
      "outputs": [
        {
          "output_type": "stream",
          "text": [
            "[-0.04994369 -0.00752671 -0.02131295  0.04171959]\n",
            "200.0\n"
          ],
          "name": "stdout"
        },
        {
          "output_type": "display_data",
          "data": {
            "text/html": [
              "<video alt=\"test\" autoplay \n",
              "                loop controls style=\"height: 400px;\">\n",
              "                <source src=\"data:video/mp4;base64,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\" type=\"video/mp4\" />\n",
              "             </video>"
            ],
            "text/plain": [
              "<IPython.core.display.HTML object>"
            ]
          },
          "metadata": {
            "tags": []
          }
        }
      ]
    },
    {
      "cell_type": "code",
      "metadata": {
        "id": "-0Hmd_I-Olgt",
        "outputId": "36d428e0-7154-4151-94ed-53ee556fce4f",
        "colab": {
          "base_uri": "https://localhost:8080/",
          "height": 455
        }
      },
      "source": [
        "env = wrap_env(gym.make(\"CartPole-v1\"))\n",
        "observation = env.reset()\n",
        "print(observation)\n",
        "rsum = 0\n",
        "while True:\n",
        "    env.render()\n",
        "    \n",
        "    #your agent goes here\n",
        "    # action = env.action_space.sample() \n",
        "    values = Qprincipal.compute_Qvalues(np.expand_dims(observation,0))\n",
        "    action = np.argmax(values.flatten())\n",
        "         \n",
        "    observation, reward, done, info = env.step(action) \n",
        "    rsum += reward\n",
        "        \n",
        "    if done: \n",
        "      break;\n",
        "print(rsum)\n",
        "env.close()\n",
        "show_video()"
      ],
      "execution_count": 26,
      "outputs": [
        {
          "output_type": "stream",
          "text": [
            "[ 0.01001223 -0.03302552  0.02322986 -0.0092325 ]\n",
            "500.0\n"
          ],
          "name": "stdout"
        },
        {
          "output_type": "display_data",
          "data": {
            "text/html": [
              "<video alt=\"test\" autoplay \n",
              "                loop controls style=\"height: 400px;\">\n",
              "                <source src=\"data:video/mp4;base64,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\" type=\"video/mp4\" />\n",
              "             </video>"
            ],
            "text/plain": [
              "<IPython.core.display.HTML object>"
            ]
          },
          "metadata": {
            "tags": []
          }
        }
      ]
    },
    {
      "cell_type": "code",
      "metadata": {
        "id": "4A8Zx08aP347"
      },
      "source": [
        ""
      ],
      "execution_count": 16,
      "outputs": []
    }
  ]
}