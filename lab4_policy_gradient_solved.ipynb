{
  "nbformat": 4,
  "nbformat_minor": 0,
  "metadata": {
    "kernelspec": {
      "name": "python3",
      "display_name": "Python 3"
    },
    "colab": {
      "name": "lab4-policy gradient.ipynb",
      "provenance": [],
      "collapsed_sections": []
    }
  },
  "cells": [
    {
      "cell_type": "markdown",
      "metadata": {
        "id": "k2PKgK2vENdY"
      },
      "source": [
        "#  Lab Instruction\n",
        "\n",
        "In this notebook, we will learn how to implement Policy Gradient (PG) using Tensorflow.  We will look at a specific version -- Actor Critic Policy Gradient. The notebook contains all the info that you need to understand the basic mechanism of PG, you could also refer to the PG pdf for detailed pseudocode. **Your task** is to fill in the\n",
        "\n",
        "YOUR CODE HERE\n",
        "\n",
        "sections in the code blocks below, to complete the building of computation graph, and the implementation of other parts of PG. You are free to tweak all codes except the last block. Your are also free to tweak the hyper-parameters to improve the performance of the agent. The final block of the code evaluates the performance of the agent on an independent 100 episodes on the environment and print out the average testing performance.\n",
        "\n",
        "Make sure that your final submission is a notebook that can be run from beginning to end, and you should print out the accuracy at the end of the notebook (i.e. be sure to run the last block after training). The upper bound of your agent's performance is 500 (you could get at most 500 for this environment). **Your grade will depend on the final evaluation performance of the agent**. However, if you tweak the code to report false result, you will receive no credit for this assignment."
      ]
    },
    {
      "cell_type": "code",
      "metadata": {
        "id": "BVdf3kuTEvdk",
        "outputId": "15a8c610-1ced-473b-94f5-6396108a2e59",
        "colab": {
          "base_uri": "https://localhost:8080/"
        }
      },
      "source": [
        "!pip install tensorflow==1.15.0"
      ],
      "execution_count": 1,
      "outputs": [
        {
          "output_type": "stream",
          "text": [
            "Requirement already satisfied: tensorflow==1.15.0 in /usr/local/lib/python3.6/dist-packages (1.15.0)\n",
            "Requirement already satisfied: keras-applications>=1.0.8 in /usr/local/lib/python3.6/dist-packages (from tensorflow==1.15.0) (1.0.8)\n",
            "Requirement already satisfied: tensorflow-estimator==1.15.1 in /usr/local/lib/python3.6/dist-packages (from tensorflow==1.15.0) (1.15.1)\n",
            "Requirement already satisfied: absl-py>=0.7.0 in /usr/local/lib/python3.6/dist-packages (from tensorflow==1.15.0) (0.10.0)\n",
            "Requirement already satisfied: wrapt>=1.11.1 in /usr/local/lib/python3.6/dist-packages (from tensorflow==1.15.0) (1.12.1)\n",
            "Requirement already satisfied: gast==0.2.2 in /usr/local/lib/python3.6/dist-packages (from tensorflow==1.15.0) (0.2.2)\n",
            "Requirement already satisfied: opt-einsum>=2.3.2 in /usr/local/lib/python3.6/dist-packages (from tensorflow==1.15.0) (3.3.0)\n",
            "Requirement already satisfied: protobuf>=3.6.1 in /usr/local/lib/python3.6/dist-packages (from tensorflow==1.15.0) (3.12.4)\n",
            "Requirement already satisfied: keras-preprocessing>=1.0.5 in /usr/local/lib/python3.6/dist-packages (from tensorflow==1.15.0) (1.1.2)\n",
            "Requirement already satisfied: six>=1.10.0 in /usr/local/lib/python3.6/dist-packages (from tensorflow==1.15.0) (1.15.0)\n",
            "Requirement already satisfied: grpcio>=1.8.6 in /usr/local/lib/python3.6/dist-packages (from tensorflow==1.15.0) (1.33.2)\n",
            "Requirement already satisfied: termcolor>=1.1.0 in /usr/local/lib/python3.6/dist-packages (from tensorflow==1.15.0) (1.1.0)\n",
            "Requirement already satisfied: google-pasta>=0.1.6 in /usr/local/lib/python3.6/dist-packages (from tensorflow==1.15.0) (0.2.0)\n",
            "Requirement already satisfied: astor>=0.6.0 in /usr/local/lib/python3.6/dist-packages (from tensorflow==1.15.0) (0.8.1)\n",
            "Requirement already satisfied: numpy<2.0,>=1.16.0 in /usr/local/lib/python3.6/dist-packages (from tensorflow==1.15.0) (1.18.5)\n",
            "Requirement already satisfied: tensorboard<1.16.0,>=1.15.0 in /usr/local/lib/python3.6/dist-packages (from tensorflow==1.15.0) (1.15.0)\n",
            "Requirement already satisfied: wheel>=0.26 in /usr/local/lib/python3.6/dist-packages (from tensorflow==1.15.0) (0.35.1)\n",
            "Requirement already satisfied: h5py in /usr/local/lib/python3.6/dist-packages (from keras-applications>=1.0.8->tensorflow==1.15.0) (2.10.0)\n",
            "Requirement already satisfied: setuptools in /usr/local/lib/python3.6/dist-packages (from protobuf>=3.6.1->tensorflow==1.15.0) (50.3.2)\n",
            "Requirement already satisfied: markdown>=2.6.8 in /usr/local/lib/python3.6/dist-packages (from tensorboard<1.16.0,>=1.15.0->tensorflow==1.15.0) (3.3.3)\n",
            "Requirement already satisfied: werkzeug>=0.11.15 in /usr/local/lib/python3.6/dist-packages (from tensorboard<1.16.0,>=1.15.0->tensorflow==1.15.0) (1.0.1)\n",
            "Requirement already satisfied: importlib-metadata; python_version < \"3.8\" in /usr/local/lib/python3.6/dist-packages (from markdown>=2.6.8->tensorboard<1.16.0,>=1.15.0->tensorflow==1.15.0) (2.0.0)\n",
            "Requirement already satisfied: zipp>=0.5 in /usr/local/lib/python3.6/dist-packages (from importlib-metadata; python_version < \"3.8\"->markdown>=2.6.8->tensorboard<1.16.0,>=1.15.0->tensorflow==1.15.0) (3.4.0)\n"
          ],
          "name": "stdout"
        }
      ]
    },
    {
      "cell_type": "code",
      "metadata": {
        "id": "2zXCB5MuENdc",
        "outputId": "1a048143-1de0-4b22-eae2-db1a300114f7",
        "colab": {
          "base_uri": "https://localhost:8080/"
        }
      },
      "source": [
        "import tensorflow as tf\n",
        "print(tf.__version__)\n",
        "from collections import deque\n",
        "\n",
        "import numpy as np\n",
        "\n",
        "%matplotlib inline\n",
        "\n",
        "import matplotlib\n",
        "import matplotlib.pyplot as plt\n",
        "\n",
        "import gym"
      ],
      "execution_count": 2,
      "outputs": [
        {
          "output_type": "stream",
          "text": [
            "1.15.0\n"
          ],
          "name": "stdout"
        }
      ]
    },
    {
      "cell_type": "markdown",
      "metadata": {
        "id": "DLOF8etFENdh"
      },
      "source": [
        "In this assignment, we aim to solve CartPole-v1, a slightly more difficult versio than CartPole-v0. More specifically, CartPole-v0 is solved if the pole can be balanced for 200 steps while CartPole-v1 is for 500 steps. The state/action space for both environments are the same. Look at their dimensions as follows:"
      ]
    },
    {
      "cell_type": "code",
      "metadata": {
        "id": "GPGtHn6LENdh",
        "outputId": "c1528b00-4f03-480f-b9fe-f3aaf96cba73",
        "colab": {
          "base_uri": "https://localhost:8080/"
        }
      },
      "source": [
        "env = gym.make('CartPole-v1')\n",
        "print(env.observation_space)  # four observations: horizontal coordinate of car, horizontal velocity of car\n",
        "                              # angle of the pole to the vertical line, angular velocity of the pole\n",
        "print(env.action_space)  # two actions: push to the right/left"
      ],
      "execution_count": 3,
      "outputs": [
        {
          "output_type": "stream",
          "text": [
            "Box(-3.4028234663852886e+38, 3.4028234663852886e+38, (4,), float32)\n",
            "Discrete(2)\n"
          ],
          "name": "stdout"
        }
      ]
    },
    {
      "cell_type": "markdown",
      "metadata": {
        "id": "yAxcz-c9ENdk"
      },
      "source": [
        "## Policy Gradient\n",
        "\n",
        "In the previous lab, we talked about value based method for reinforcement learning. In this lab, we focus on policy based method.\n",
        "\n",
        "In policy based methods, intead of defining a value function $Q_\\theta(s,a)$ and inducing a policy based on argmax, we parameterize a stochastic policy directly. The policy is parameterized as a categorical distribution over actions. Let it be $\\pi_\\phi(s)$ with parameter $\\phi$, then the policy is defined by sampling actions $$a \\sim \\pi_\\phi(s)$$\n",
        "\n",
        "The policy induces a probability $p(\\tau)$ over trajectories $\\tau = \\{s_0,a_0,s_1,a_1...s_T,a_T\\}$ (assume horizon $T$). The expected distribution is \n",
        "\n",
        "$$R = \\mathbb{E}_{\\tau \\sim p(\\tau)} \\big[R(\\tau)\\big] = \\mathbb{E}_\\pi \\big[\\sum_{t=0}^\\infty r_t \\gamma^t \\big]$$\n",
        "\n",
        "The aim is to find $\\phi$ such that the expected reward induced by $\\pi_\\phi$ is maximized."
      ]
    },
    {
      "cell_type": "markdown",
      "metadata": {
        "id": "ffOhX52BENdl"
      },
      "source": [
        "### Policy Gradient Computation\n",
        "\n",
        "We can derive policy gradient\n",
        "\n",
        "$$\\nabla_\\phi R = \\mathbb{E}_{\\pi} \\big[\\sum_{t=0}^\\infty Q^\\pi(s_t,a_t) \\nabla_\\phi \\log \\pi_\\phi(a_t|s_t) \\big]$$\n",
        "\n",
        "To compute the gradient for update $\\phi \\leftarrow \\phi + \\alpha \\nabla_\\phi R$, we need to estimate $Q^\\pi(s,a)$. Since $Q^\\pi(s,a)$ is usually not analytically accessible, it can be approximated by \n",
        "1. Monte Carlo estimate\n",
        "2. Train a value function $Q_\\theta(s,a) \\approx Q^\\pi(s,a)$ and use it as a proxy\n",
        "3. Mixture of both above\n",
        "\n",
        "Before estimating $Q^\\pi(s,a)$, let us write a parameterized policy over actions. The policy $\\pi_\\phi(s)$ takes a state as input and outputs a categorical distribution over actions. For example, if we have two actions, the probability vector to output is of the form $[0.6,0.4]$. \n",
        "\n",
        "**Loss function**\n",
        "The loss function enables us to compute policy gradients in implementation. PG has the form \n",
        "\n",
        "$$\\frac{1}{N} \\sum_{i=1}^N \\nabla_\\phi \\log \\pi_\\phi(a_i|s_i) Q_i$$\n",
        "\n",
        "where $Q_i$s are estimated and $\\nabla_\\phi \\log\\pi_\\phi(a_i|s_i)$s are computed via backprop."
      ]
    },
    {
      "cell_type": "code",
      "metadata": {
        "id": "InJSwzIjENdl"
      },
      "source": [
        "# define neural net \\pi_\\phi(s) as a class\n",
        "class Policy(object):\n",
        "    def __init__(self, obssize, actsize, sess, optimizer):\n",
        "        \"\"\"\n",
        "        obssize: size of the states\n",
        "        actsize: size of the actions\n",
        "        \"\"\"\n",
        "        # YOUR CODE HERE\n",
        "        # BUILD PREDICTION GRAPH\n",
        "        # build the input\n",
        "        state = tf.placeholder(tf.float32, [None, obssize])\n",
        "        \n",
        "        hidden = 128\n",
        "        # prob = None  # prob is of shape [None, actsize]\n",
        "        self.W1 = tf.Variable(tf.truncated_normal([obssize, hidden]), name='W1')*0.1\n",
        "        self.b1 = tf.Variable(tf.zeros([hidden]), name='b1')\n",
        "        self.h1 = tf.matmul(state, self.W1)+self.b1\n",
        "        self.W2 = tf.Variable(tf.truncated_normal([hidden, actsize]), name='W2')*0.1\n",
        "        self.b2 = tf.Variable(tf.zeros([actsize]), name='b2')\n",
        "        self.h2 = tf.matmul(self.h1, self.W2) + self.b2\n",
        "        prob = tf.nn.softmax(self.h2)\n",
        "\n",
        "        # BUILD LOSS \n",
        "        Q_estimate = tf.placeholder(tf.float32, [None])\n",
        "        actions = tf.placeholder(tf.int32, [None])\n",
        "\n",
        "        # surrogate_loss = None\n",
        "        surrogate_loss = -tf.reduce_mean(tf.math.log(tf.reduce_sum(prob*tf.one_hot(actions, actsize), axis=1))*Q_estimate)\n",
        "        \n",
        "        self.train_op = optimizer.minimize(surrogate_loss)\n",
        "        \n",
        "        # some bookkeeping\n",
        "        self.state = state\n",
        "        self.prob = prob\n",
        "        self.actions = actions\n",
        "        self.Q_estimate = Q_estimate\n",
        "        self.loss = surrogate_loss\n",
        "        self.optimizer = optimizer\n",
        "        self.sess = sess\n",
        "    \n",
        "    def compute_prob(self, states):\n",
        "        \"\"\"\n",
        "        compute prob over actions given states pi(a|s)\n",
        "        states: numpy array of size [numsamples, obssize]\n",
        "        return: numpy array of size [numsamples, actsize]\n",
        "        \"\"\"\n",
        "        # YOUR CODE HERE\n",
        "        return self.sess.run(self.prob, feed_dict={self.state: states})\n",
        "\n",
        "    def train(self, states, actions, Qs):\n",
        "        \"\"\"\n",
        "        states: numpy array (states)\n",
        "        actions: numpy array (actions)\n",
        "        Qs: numpy array (Q values)\n",
        "        \"\"\"\n",
        "        return self.sess.run(self.train_op, feed_dict={self.state: states, self.actions: actions, self.Q_estimate: Qs})   "
      ],
      "execution_count": 4,
      "outputs": []
    },
    {
      "cell_type": "markdown",
      "metadata": {
        "id": "ibWPbsIbENdo"
      },
      "source": [
        "Try to rollout trajecories using the policy"
      ]
    },
    {
      "cell_type": "code",
      "metadata": {
        "id": "AVkNSrK5ENdp",
        "outputId": "3c330c6a-1f31-4581-d49b-850e0334de84",
        "colab": {
          "base_uri": "https://localhost:8080/",
          "height": 86
        }
      },
      "source": [
        "# just pseudocode\n",
        "\"\"\"\n",
        "env = gym.make(\"CartPole-v1\")\n",
        "obs = env.reset()\n",
        "done = False\n",
        "\n",
        "while not done:\n",
        "    prob = policy.compute_prob(obs)\n",
        "    action = np.random.randint(0, prob.size, p=prob.flatten())\n",
        "    obs, reward, done, info = env.step(action)\n",
        "\"\"\"\n",
        "\"\"\"\n",
        "obssize = 4\n",
        "actsize = 2\n",
        "sess = tf.Session()\n",
        "\n",
        "optimizer = tf.train.AdamOptimizer()\n",
        "\n",
        "env = gym.make(\"CartPole-v1\")\n",
        "\n",
        "policy = Policy(obssize, actsize, sess, optimizer)\n",
        "sess.run(tf.global_variables_initializer())\n",
        "\n",
        "obs = env.reset()\n",
        "done = False    \n",
        "sum_reward = 0\n",
        "while not done:\n",
        "    obs = np.expand_dims(obs, 0)\n",
        "    prob = policy.compute_prob(obs)\n",
        "    action = np.random.choice(prob.size, p=prob.flatten())\n",
        "    obs, reward, done, info = env.step(action)\n",
        "    sum_reward += reward\n",
        "print(sum_reward)\n",
        "\"\"\""
      ],
      "execution_count": 5,
      "outputs": [
        {
          "output_type": "execute_result",
          "data": {
            "application/vnd.google.colaboratory.intrinsic+json": {
              "type": "string"
            },
            "text/plain": [
              "'\\nobssize = 4\\nactsize = 2\\nsess = tf.Session()\\n\\noptimizer = tf.train.AdamOptimizer()\\n\\nenv = gym.make(\"CartPole-v1\")\\n\\npolicy = Policy(obssize, actsize, sess, optimizer)\\nsess.run(tf.global_variables_initializer())\\n\\nobs = env.reset()\\ndone = False    \\nsum_reward = 0\\nwhile not done:\\n    obs = np.expand_dims(obs, 0)\\n    prob = policy.compute_prob(obs)\\n    action = np.random.choice(prob.size, p=prob.flatten())\\n    obs, reward, done, info = env.step(action)\\n    sum_reward += reward\\nprint(sum_reward)\\n'"
            ]
          },
          "metadata": {
            "tags": []
          },
          "execution_count": 5
        }
      ]
    },
    {
      "cell_type": "markdown",
      "metadata": {
        "id": "e2lMqFODENdr"
      },
      "source": [
        "### Estimate $Q^\\pi(s,a)$\n",
        "\n",
        "To estimate $Q^\\pi(s,a)$, we can rollout the policy until the episode ends and do monte carlo estimate. In particular, under policy $\\pi$, we start from state action $(s_0,a_0)$ and rollout the policy to generate a trajectory $\\{s_0,a_0,s_1,a_1...s_T,a_T\\}$, with corresponding reward $r_0,r_1...r_T$. Monte carlo estimate is \n",
        "\n",
        "$$\\hat{Q}_{MC}(s,a) = \\sum_{t=0}^T r_t \\gamma^t \\approx Q^\\pi(s,a)$$\n",
        "\n",
        "This estimate by itself is of high variance. Using pure monte carlo estimate may work but the gradient can have large variance and hence take the algorithm  a long time to converge. We can reduce variance using baseline. Recall the derivation of PG\n",
        "\n",
        "$$\\nabla_\\phi R = \\mathbb{E}_{\\pi} \\big[\\sum_{t=0}^\\infty Q^\\pi(s_t,a_t) \\nabla_\\phi \\log \\pi_\\phi(a_t|s_t) \\big] = \\mathbb{E}_{\\pi} \\big[\\sum_{t=0}^\\infty ( Q^\\pi(s_t,a_t) - f(s_t)) \\nabla_\\phi \\log \\pi_\\phi(a_t|s_t) \\big]$$\n",
        "\n",
        "where $f(s_t)$ can be any function of state $s_t$. $f(s_t)$ is called baseline. Optimal baseline function is hard to compute, but a good proxy is the value function $V^\\pi(s_t)$. Hence the gradient has the form \n",
        "$$\\nabla_\\phi R = \\mathbb{E}_{\\pi} \\big[\\sum_{t=0}^\\infty A^\\pi(s_t,a_t) \\nabla_\\phi \\log \\pi_\\phi(a_t|s_t) \\big]$$\n",
        "\n",
        "where $A^\\pi(s,a)$ is the advantage. Hence we can train a value function $V^\\pi(s)$ along side the policy and use it as baseline to reduce the variance of PG. This paradigm is **actor-critic** method. "
      ]
    },
    {
      "cell_type": "markdown",
      "metadata": {
        "id": "gFwXqz_5ENds"
      },
      "source": [
        "### Train Value Function as Baseline\n",
        "\n",
        "Hence we also parameterize a value function $V_\\theta(s) \\approx V^\\pi(s)$ with parameter $\\theta$ to serve as baseline. The function takes as input the states $s$ and outputs a real value. \n",
        "\n",
        "Notice that unlike DQN, where $Q_\\theta(s,a) \\approx Q^\\ast(s,a)$ the approximated target is fixed, now we have $V_\\theta(s) \\approx V^\\pi(s)$ a moving object defined by policyb $\\pi$. If $\\pi$ is updated by PG, $\\pi$ keeps changing, which $V^\\pi(s)$ changes as well. We need to adapt $V_\\theta(s)$ online to cater for the change in policy. \n",
        "\n",
        "Recall that to evaluate a policy $\\pi$, we collect rollouts using $\\pi$. If we start with state $s_0$, the reward following $\\pi$ thereafter is $r_0,r_1...r_{T-1}$  then \n",
        "\n",
        "$$V^\\pi(s_0) \\approx \\sum_{t=0}^T r_t \\gamma^t = \\hat{V}(s_0)$$\n",
        "\n",
        "We compute $V_\\phi(s) \\approx V^\\pi(s)$ by minimizing \n",
        "\n",
        "$$(V_\\phi(s_0) - \\hat{V}(s_0))^2$$\n",
        "\n",
        "Hence, given a policy $\\pi$. Starting from $s_0$, generate trajectory $\\{s_0,a_0,s_1,a_1...a_{T-1},s_T\\}$ and rewards $\\{r_0,r_1...r_{T-1}\\}$. We can estimate the value function for state $s_i,0\\leq i\\leq T$. In general\n",
        "\n",
        "$$\\hat{V}(s_i) = \\sum_{i=t}^T r_i \\gamma^{i-t}$$\n",
        "\n",
        "And the objective to minimize over is \n",
        "$$\\frac{1}{T+1} \\sum_{i=0}^{T} (V_\\theta(s_i) - \\hat{V}(s_i))^2$$\n",
        "\n",
        "Since the policy keeps updating, we do not have to minimize the above objective to optimality. In practice, take one gradient step w.r.t. above objective suffices."
      ]
    },
    {
      "cell_type": "code",
      "metadata": {
        "id": "9byyXWOKENds"
      },
      "source": [
        "# define value function as a class\n",
        "class ValueFunction(object):\n",
        "    def __init__(self, obssize, sess, optimizer):\n",
        "        \"\"\"\n",
        "        obssize: size of states\n",
        "        \"\"\"\n",
        "        # YOUR CODE HERE\n",
        "        # need to implement both prediction and loss\n",
        "        # pass\n",
        "        hidden=128\n",
        "        state = tf.placeholder(tf.float32, [None, obssize])\n",
        "        self.W1 = tf.Variable(tf.truncated_normal([obssize, hidden]), name='Value_W1')*0.1\n",
        "        self.b1 = tf.Variable(tf.zeros([hidden]), name='Value_b1')\n",
        "        self.h1 = tf.nn.relu(tf.matmul(state, self.W1)+self.b1)\n",
        "        self.W2 = tf.Variable(tf.truncated_normal([hidden, 1]), name='Value_W2')*0.1\n",
        "        self.b2 = tf.Variable(tf.zeros([1]), name='Value_b2')\n",
        "        value = tf.matmul(self.h1, self.W2) + self.b2\n",
        "\n",
        "        target = tf.placeholder(tf.float32, [None])\n",
        "        loss = tf.reduce_mean(tf.square(value-target))\n",
        "\n",
        "        self.train_op = optimizer.minimize(loss)\n",
        "\n",
        "        self.obssize = obssize\n",
        "        self.sess = sess\n",
        "        self.optimizer = optimizer\n",
        "        self.state = state\n",
        "        self.value = value\n",
        "        self.target = target\n",
        "        self.loss = loss\n",
        "\n",
        "    def compute_values(self, states):\n",
        "        \"\"\"\n",
        "        compute value function for given states\n",
        "        states: numpy array of size [numsamples, obssize]\n",
        "        return: numpy array of size [numsamples]\n",
        "        \"\"\"\n",
        "        # YOUR CODE HERE\n",
        "        # return None\n",
        "        return self.sess.run(self.value, feed_dict={self.state: states})\n",
        "\n",
        "    def train(self, states, targets):\n",
        "        \"\"\"\n",
        "        states: numpy array\n",
        "        targets: numpy array\n",
        "        \"\"\"\n",
        "        # YOUR CODE HERE\n",
        "        # pass\n",
        "        return self.sess.run([self.loss, self.train_op], feed_dict={self.state: states, self.target: targets})"
      ],
      "execution_count": 6,
      "outputs": []
    },
    {
      "cell_type": "code",
      "metadata": {
        "id": "K5GHG9lHUWd3"
      },
      "source": [
        "# obssize = 4\n",
        "# actsize = 2\n",
        "# sess = tf.Session()\n",
        "\n",
        "# optimizer = tf.train.AdamOptimizer()\n",
        "\n",
        "# env = gym.make(\"CartPole-v1\")\n",
        "\n",
        "# value = ValueFunction(obssize, sess, optimizer)\n",
        "# sess.run(tf.global_variables_initializer())\n",
        "\n",
        "# obs = env.reset()\n",
        "# done = False    \n",
        "# obs = np.expand_dims(obs, 0)\n",
        "\n",
        "# value.compute_values(obs)\n",
        "# value.train(obs, np.array([[1.]]))"
      ],
      "execution_count": 7,
      "outputs": []
    },
    {
      "cell_type": "markdown",
      "metadata": {
        "id": "khBZuMmtENdv"
      },
      "source": [
        "### Summary of pseudocode (training procedure)\n",
        "\n",
        "The critical components of the pseudocode is as follows.\n",
        "\n",
        "**Collect trajectories** Given current policy $\\pi_\\phi$, we can rollout using the policy by executing $a_t \\sim \\pi_\\phi(s_t)$. Assume that the horizon is $T$, we can collect $N$ trajectories each with length $T+1$.\n",
        "\n",
        "**Update value function** Value function update is based on minimizing the L2 loss between predicted value function and estimated value functions. For each state in the collected sample $s_i$, estimate a value function using the rest of the path (as above). Let the estimate be $\\hat{V}(s_i)$. Then take one gradient step to update $\\theta$ using the loss\n",
        "\n",
        "$$\\frac{1}{N(T+1)} \\sum_{i=1} (V_\\theta(s_i) - \\hat{V}(s_i))^2$$\n",
        "\n",
        "**Update policy using PG** To compute PG, we need to first monte carlo estimate action-value function $\\hat{Q}(s_i,a_i)$. Then use value function as a baseline to compute advantage\n",
        "\n",
        "$$\\hat{A}(s_i,a_i) = \\hat{Q}(s_i,a_i) - V_\\theta(s_i)$$\n",
        "\n",
        "Then compute surrogate loss \n",
        "\n",
        "$$L = - \\frac{1}{N(T+1)}\\sum_{i} \\hat{A}(s_i,a_i) \\log \\pi(a_i|s_i) $$\n",
        "\n",
        "The policy is updated by $$\\phi \\leftarrow \\phi - \\alpha  \\nabla_\\phi L$$"
      ]
    },
    {
      "cell_type": "markdown",
      "metadata": {
        "id": "T8TZPFSkENdv"
      },
      "source": [
        "## Main iteration implementations\n",
        "\n",
        "Below are skeleton codes that you may find useful in implementing the above procedure."
      ]
    },
    {
      "cell_type": "code",
      "metadata": {
        "id": "xfj7wGVRENdx"
      },
      "source": [
        "# function to calculate the value function\n",
        "def discounted_rewards(r, gamma):\n",
        "    \"\"\" take 1D float array of rewards and compute discounted reward \"\"\"\n",
        "    discounted_r = np.zeros_like(r)\n",
        "    running_sum = 0\n",
        "    for i in reversed(range(0,len(r))):\n",
        "        discounted_r[i] = running_sum * gamma + r[i]\n",
        "        running_sum = discounted_r[i]\n",
        "    return list(discounted_r)"
      ],
      "execution_count": 8,
      "outputs": []
    },
    {
      "cell_type": "code",
      "metadata": {
        "id": "AFeVUYwmENd0",
        "outputId": "e652dbaf-aee0-442b-d884-4f7d52e67a88",
        "colab": {
          "base_uri": "https://localhost:8080/"
        }
      },
      "source": [
        "# YOUR CODE HERE -- feel free to tune/add hyper-parameters\n",
        "# parameter initializations\n",
        "alpha = 1e-2  # learning rate for PG\n",
        "beta = 1e-2  # learning rate for baseline\n",
        "numtrajs = 1 # num of trajecories to collect at each iteration \n",
        "iterations = 5000  # total num of iterations\n",
        "envname = \"CartPole-v1\"  # environment name\n",
        "gamma = .99  # discount\n",
        "# episodes = 1000\n",
        "\n",
        "\n",
        "# initialize environment\n",
        "env = gym.make(envname)\n",
        "obssize = env.observation_space.low.size\n",
        "actsize = env.action_space.n\n",
        "\n",
        "# sess\n",
        "sess = tf.Session()\n",
        "\n",
        "# optimizer\n",
        "optimizer_p = tf.train.AdamOptimizer(alpha)\n",
        "optimizer_v = tf.train.AdamOptimizer(beta)\n",
        "\n",
        "# initialize networks\n",
        "actor = Policy(obssize, actsize, sess, optimizer_p)  # policy initialization\n",
        "baseline = ValueFunction(obssize, sess, optimizer_v)  # baseline initialization\n",
        "\n",
        "# initialize tensorflow graphs\n",
        "sess.run(tf.global_variables_initializer())\n",
        "\n",
        "solved = False\n",
        "running_reward = 0\n",
        "history = []\n",
        "# main iteration\n",
        "# for ite in range(episodes):   \n",
        "ite = 1 \n",
        "while not solved and ite < iterations:\n",
        "\n",
        "    # trajs records for batch update\n",
        "    OBS = []  # observations\n",
        "    ACTS = []  # actions\n",
        "    ADS = []  # advantages (to update policy)\n",
        "    VAL = []  # value functions (to update baseline)\n",
        "\n",
        "    episode_reward = []\n",
        "    for num in range(numtrajs):\n",
        "        # record for each episode\n",
        "        obss = []  # observations\n",
        "        acts = []   # actions\n",
        "        rews = []  # instant rewards\n",
        "\n",
        "        obs = env.reset()\n",
        "        done = False\n",
        "\n",
        "        # rollout one trajectory\n",
        "        while not done:\n",
        "            prob = actor.compute_prob(np.expand_dims(obs, 0))\n",
        "            action = np.random.choice(actsize, p=prob.flatten(), size=1)\n",
        "            newobs, reward, done, _ = env.step(action[0])\n",
        "            \n",
        "            # record\n",
        "            obss.append(obs)\n",
        "            acts.append(action[0])\n",
        "            rews.append(reward)\n",
        "\n",
        "            # update\n",
        "            obs = newobs\n",
        "        # compute returns from instant rewards\n",
        "        returns = discounted_rewards(rews, gamma)\n",
        "        episode_reward.append(np.sum(rews))\n",
        "        # record for batch update\n",
        "        VAL += returns\n",
        "        OBS += obss\n",
        "        ACTS += acts\n",
        "        \n",
        "    # print(np.mean(episode_reward))\n",
        "    ite += 1\n",
        "    # update baseline\n",
        "    VAL = np.array(VAL)\n",
        "    OBS = np.array(OBS)\n",
        "    ACTS = np.array(ACTS)\n",
        "    \n",
        "    loss, _ = baseline.train(OBS, VAL)  # update only one step\n",
        "    # update policy\n",
        "    BAS = baseline.compute_values(OBS)  # compute baseline for variance reduction\n",
        "    ADS = VAL - np.squeeze(BAS, 1)\n",
        "    \n",
        "    actor.train(OBS, ACTS, ADS)  # update only one step\n",
        "\n",
        "    running_reward = 0.05*np.mean(episode_reward) + (1-0.05)*running_reward\n",
        "    history.append(running_reward)\n",
        "    if ite%10 == 0:\n",
        "        print(\"iteration \"+str(ite)+': ', running_reward)\n",
        "    if running_reward > 499.9:\n",
        "        print(\"solved at iteration {}\".format(ite))\n",
        "        break\n",
        "    if ite > iterations:\n",
        "        print(\"not solved after {} episodes\".format(iterations))"
      ],
      "execution_count": 9,
      "outputs": [
        {
          "output_type": "stream",
          "text": [
            "iteration 10:  8.979632674816406\n",
            "iteration 20:  15.541752780842007\n",
            "iteration 30:  19.499581256488987\n",
            "iteration 40:  22.694431867254632\n",
            "iteration 50:  22.198903178801523\n",
            "iteration 60:  23.86849223520355\n",
            "iteration 70:  23.033896046930717\n",
            "iteration 80:  28.728794353536003\n",
            "iteration 90:  32.134502804360785\n",
            "iteration 100:  39.1274402134912\n",
            "iteration 110:  46.61490142987507\n",
            "iteration 120:  50.73188307315717\n",
            "iteration 130:  58.31205929791655\n",
            "iteration 140:  63.856148284047656\n",
            "iteration 150:  65.13640599054068\n",
            "iteration 160:  103.824413433712\n",
            "iteration 170:  142.3328170718884\n",
            "iteration 180:  176.65032570757955\n",
            "iteration 190:  183.88476835825267\n",
            "iteration 200:  185.18760921079777\n",
            "iteration 210:  243.03962346857892\n",
            "iteration 220:  303.789658629762\n",
            "iteration 230:  320.4142784466675\n",
            "iteration 240:  370.8778947462418\n",
            "iteration 250:  364.49938515556465\n",
            "iteration 260:  377.7247328531241\n",
            "iteration 270:  401.887536053495\n",
            "iteration 280:  418.2729686967661\n",
            "iteration 290:  411.9203824244624\n",
            "iteration 300:  440.36347936353553\n",
            "iteration 310:  429.13496390635925\n",
            "iteration 320:  438.3129380027762\n",
            "iteration 330:  429.11340960290636\n",
            "iteration 340:  427.6166572388494\n",
            "iteration 350:  447.3933717913511\n",
            "iteration 360:  468.502468442702\n",
            "iteration 370:  481.141264361819\n",
            "iteration 380:  485.65857834608966\n",
            "iteration 390:  451.92263609461054\n",
            "iteration 400:  331.14970854219916\n",
            "iteration 410:  318.2687207164758\n",
            "iteration 420:  279.0302808341841\n",
            "iteration 430:  354.3674916666196\n",
            "iteration 440:  409.207755519364\n",
            "iteration 450:  437.8631353525382\n",
            "iteration 460:  462.79636384710915\n",
            "iteration 470:  457.8432490737796\n",
            "iteration 480:  466.2255142239342\n",
            "iteration 490:  469.5275927620881\n",
            "iteration 500:  470.33923708774046\n",
            "iteration 510:  482.2410055984383\n",
            "iteration 520:  476.1620340480573\n",
            "iteration 530:  485.7273292282649\n",
            "iteration 540:  477.71229478737405\n",
            "iteration 550:  471.6372511042281\n",
            "iteration 560:  483.0181745377586\n",
            "iteration 570:  489.83235380005704\n",
            "iteration 580:  488.21071088498724\n",
            "iteration 590:  492.94131711948074\n",
            "iteration 600:  495.77370581706333\n",
            "iteration 610:  497.46956155658734\n",
            "iteration 620:  493.3948397723945\n",
            "iteration 630:  496.04524658214416\n",
            "iteration 640:  497.6321430431503\n",
            "iteration 650:  489.3742834168513\n",
            "iteration 660:  491.36839476348615\n",
            "iteration 670:  494.83193909997556\n",
            "iteration 680:  496.90569103492174\n",
            "iteration 690:  488.658325108691\n",
            "iteration 700:  493.2093202897407\n",
            "iteration 710:  495.934169214931\n",
            "iteration 720:  497.5656369202864\n",
            "iteration 730:  498.5424569006572\n",
            "iteration 740:  499.12731510589134\n",
            "iteration 750:  475.2399496134078\n",
            "iteration 760:  482.7659795446201\n",
            "iteration 770:  442.66245909177405\n",
            "iteration 780:  451.6700666018759\n",
            "iteration 790:  471.0630836036122\n",
            "iteration 800:  482.6743992458298\n",
            "iteration 810:  478.23214783398186\n",
            "iteration 820:  486.9667828203246\n",
            "iteration 830:  492.1965314374119\n",
            "iteration 840:  495.327775117393\n",
            "iteration 850:  497.20256637435426\n",
            "iteration 860:  498.3250731532582\n",
            "iteration 870:  498.99715942633344\n",
            "iteration 880:  499.39956230437855\n",
            "iteration 890:  499.6404957719201\n",
            "iteration 900:  499.16725153883607\n",
            "iteration 910:  499.50140273520714\n",
            "iteration 920:  485.97914353152294\n",
            "iteration 930:  491.60519531256324\n",
            "iteration 940:  494.97372033594\n",
            "iteration 950:  496.99058069818454\n",
            "iteration 960:  477.0796494983459\n",
            "iteration 970:  486.2767394943686\n",
            "iteration 980:  491.78337700848715\n",
            "iteration 990:  495.08040429918583\n",
            "iteration 1000:  497.054456327804\n",
            "iteration 1010:  498.23639419731626\n",
            "iteration 1020:  498.9440640596779\n",
            "iteration 1030:  499.3677721470596\n",
            "iteration 1040:  499.6214618304291\n",
            "iteration 1050:  499.7733552149661\n",
            "iteration 1060:  499.8642993951143\n",
            "solved at iteration 1066\n"
          ],
          "name": "stdout"
        }
      ]
    },
    {
      "cell_type": "code",
      "metadata": {
        "id": "Sgdb9uRsg8s6",
        "outputId": "571c2cfd-f22f-4703-b680-6b7be685d275",
        "colab": {
          "base_uri": "https://localhost:8080/",
          "height": 282
        }
      },
      "source": [
        "plt.plot(history)"
      ],
      "execution_count": 10,
      "outputs": [
        {
          "output_type": "execute_result",
          "data": {
            "text/plain": [
              "[<matplotlib.lines.Line2D at 0x7f0e9e939e80>]"
            ]
          },
          "metadata": {
            "tags": []
          },
          "execution_count": 10
        },
        {
          "output_type": "display_data",
          "data": {
            "image/png": "[encoded data removed]",
            "text/plain": [
              "<Figure size 432x288 with 1 Axes>"
            ]
          },
          "metadata": {
            "tags": [],
            "needs_background": "light"
          }
        }
      ]
    },
    {
      "cell_type": "code",
      "metadata": {
        "id": "L5xEfeVoENd2",
        "outputId": "76dc5e88-8f8b-40ae-92d0-7e1fe934e5da",
        "colab": {
          "base_uri": "https://localhost:8080/"
        }
      },
      "source": [
        "# DO NOT CHANGE CODE HERE\n",
        "# after training, we will evaluate the performance of the agent\n",
        "# on a target environment\n",
        "eval_episodes = 100\n",
        "record = []\n",
        "env = gym.make('CartPole-v1')\n",
        "eval_mode = True\n",
        "for ite in range(eval_episodes):\n",
        "    \n",
        "    obs = env.reset()\n",
        "    done = False\n",
        "    rsum = 0\n",
        "    \n",
        "    while not done:\n",
        "        \n",
        "        # epsilon greedy for exploration\n",
        "        if eval_mode:\n",
        "            p = actor.compute_prob(np.expand_dims(obs,0)).ravel()\n",
        "            action = np.random.choice(np.arange(2), size=1, p=p)[0]\n",
        "        else:\n",
        "            raise NotImplementedError\n",
        "\n",
        "        newobs, r, done, _ = env.step(action)\n",
        "        rsum += r\n",
        "        obs = newobs\n",
        "    \n",
        "    record.append(rsum)\n",
        "\n",
        "print(\"eval performance of PG agent: {}\".format(np.mean(record)))"
      ],
      "execution_count": 14,
      "outputs": [
        {
          "output_type": "stream",
          "text": [
            "eval performance of PG agent: 500.0\n"
          ],
          "name": "stdout"
        }
      ]
    },
    {
      "cell_type": "code",
      "metadata": {
        "id": "l0Anmh0JkrDv"
      },
      "source": [
        ""
      ],
      "execution_count": null,
      "outputs": []
    }
  ]
}